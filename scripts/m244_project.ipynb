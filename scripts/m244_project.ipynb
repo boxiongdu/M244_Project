{
 "cells": [
  {
   "cell_type": "code",
   "execution_count": 40,
   "metadata": {},
   "outputs": [],
   "source": [
    "import os\n",
    "import json\n",
    "from pandas import json_normalize\n",
    "import pandas as pd\n",
    "import datetime"
   ]
  },
  {
   "cell_type": "code",
   "execution_count": 93,
   "metadata": {},
   "outputs": [],
   "source": [
    "#Load json file\n",
    "first_file = './M244_Project/data/games.json'\n",
    "with open(first_file, 'r') as file:\n",
    "   json_data = json.load(file)"
   ]
  },
  {
   "cell_type": "code",
   "execution_count": 94,
   "metadata": {},
   "outputs": [],
   "source": [
    "unnecessary_vars = [\n",
    "    'packages', 'screenshots', 'movies', 'header_image', 'website', 'support_url', 'notes', 'support_email',\n",
    "    'required_age', 'metacritic_url', 'detailed_description', 'about_the_game','achievements', 'full_audio_languages', 'dlc_count', 'supported_languages', 'developers'\n",
    "]"
   ]
  },
  {
   "cell_type": "code",
   "execution_count": 95,
   "metadata": {},
   "outputs": [],
   "source": [
    "games = [{\n",
    "    **{k: v for k, v in game_info.items() if k not in unnecessary_vars},\n",
    "    'tags': list(tags.keys()) if isinstance((tags := game_info.get('tags', {})), dict) else [],\n",
    "    'tag_frequencies': list(tags.values()) if isinstance(tags, dict) else [],\n",
    "    'app_id': app_id\n",
    "} for app_id, game_info in json_data.items()]\n",
    "\n",
    "# Create a DataFrame from the processed list\n",
    "df = pd.DataFrame(games)"
   ]
  },
  {
   "cell_type": "code",
   "execution_count": 25,
   "metadata": {},
   "outputs": [],
   "source": [
    "df.to_csv('games.csv')"
   ]
  },
  {
   "cell_type": "code",
   "execution_count": 96,
   "metadata": {},
   "outputs": [],
   "source": [
    "#Filter out games with no playtime  \n",
    "df = df[df['median_playtime_forever'] > 0]\n",
    "\n",
    "#Select only the columns we want\n",
    "df = df[['name', 'release_date', 'price', 'windows', 'mac', 'linux', 'publishers', 'genres', 'positive', 'negative', 'estimated_owners', 'median_playtime_forever', \n",
    "         'peak_ccu']]"
   ]
  },
  {
   "cell_type": "code",
   "execution_count": 99,
   "metadata": {},
   "outputs": [],
   "source": [
    "#Data Wrangling\n",
    "#Take only the year of the release date\n",
    "df['release_year'] = pd.to_datetime(df['release_date'], format='mixed').dt.year"
   ]
  },
  {
   "cell_type": "code",
   "execution_count": 100,
   "metadata": {},
   "outputs": [],
   "source": [
    "#Take the sum of the systems\n",
    "def get_system(df, col_list):\n",
    "    for col in col_list:\n",
    "        df[col] = df[col].astype(int)\n",
    "\n",
    "    df['compatible_systems'] = df[col_list].sum(axis=1)\n",
    "    \n",
    "    return df\n",
    "\n",
    "df = get_system(df, ['windows', 'mac', 'linux'])"
   ]
  },
  {
   "cell_type": "code",
   "execution_count": 101,
   "metadata": {},
   "outputs": [],
   "source": [
    "df['positive_rate'] = df['positive'] / (df['positive'] + df['negative'])"
   ]
  },
  {
   "cell_type": "code",
   "execution_count": 102,
   "metadata": {},
   "outputs": [],
   "source": [
    "df['estimated_owners'] = pd.Categorical(df['estimated_owners'])"
   ]
  },
  {
   "cell_type": "code",
   "execution_count": 103,
   "metadata": {},
   "outputs": [],
   "source": [
    "df['genres'] = df['genres'].apply(lambda x: x[:1] if len(x) > 1 else x)  "
   ]
  },
  {
   "cell_type": "code",
   "execution_count": 104,
   "metadata": {},
   "outputs": [],
   "source": [
    "df = df.drop(columns=['release_date', 'windows', 'mac', 'linux', 'positive', 'negative'])"
   ]
  },
  {
   "cell_type": "code",
   "execution_count": 105,
   "metadata": {},
   "outputs": [],
   "source": [
    "table_summary_stats = df.describe(include='all')"
   ]
  }
 ],
 "metadata": {
  "kernelspec": {
   "display_name": "base",
   "language": "python",
   "name": "python3"
  },
  "language_info": {
   "codemirror_mode": {
    "name": "ipython",
    "version": 3
   },
   "file_extension": ".py",
   "mimetype": "text/x-python",
   "name": "python",
   "nbconvert_exporter": "python",
   "pygments_lexer": "ipython3",
   "version": "3.12.9"
  }
 },
 "nbformat": 4,
 "nbformat_minor": 2
}
